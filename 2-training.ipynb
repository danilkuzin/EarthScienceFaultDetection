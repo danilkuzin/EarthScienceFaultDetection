{
 "cells": [
  {
   "cell_type": "code",
   "execution_count": 1,
   "metadata": {},
   "outputs": [],
   "source": [
    "%matplotlib inline\n",
    "\n",
    "import matplotlib.pyplot as plt\n",
    "from PIL import Image\n",
    "import seaborn as sns\n",
    "import numpy as np\n",
    "import tensorflow as tf\n",
    "import pathlib\n",
    "from tqdm import trange\n",
    "\n",
    "from src.DataPreprocessor.data_preprocessor import DataPreprocessor, Mode\n",
    "from src.LearningKeras.net_architecture import cnn_150x150x5,cnn_150x150x5_3class\n",
    "from src.LearningKeras.train import KerasTrainer\n",
    "\n",
    "np.random.seed(1)\n",
    "tf.set_random_seed(2)"
   ]
  },
  {
   "cell_type": "markdown",
   "metadata": {},
   "source": [
    "check data_visualisation for details"
   ]
  },
  {
   "cell_type": "code",
   "execution_count": 2,
   "metadata": {},
   "outputs": [
    {
     "name": "stderr",
     "output_type": "stream",
     "text": [
      "WARNING:root:optical images are not match in 1-2 pixels in size\n"
     ]
    }
   ],
   "source": [
    "from src.DataPreprocessor.DataIOBackend.gdal_backend import GdalBackend\n",
    "from src.DataPreprocessor.data_visualiser import DataVisualiser\n",
    "\n",
    "dataiobackend = GdalBackend()\n",
    "data_preprocessor = DataPreprocessor(data_dir=\"data/Region 1 - Lopukangri/\",\n",
    "                              backend=dataiobackend,\n",
    "                              filename_prefix=\"tibet\",\n",
    "                              mode=Mode.TRAIN,\n",
    "                              seed=1)"
   ]
  },
  {
   "cell_type": "markdown",
   "metadata": {},
   "source": [
    "## NN"
   ]
  },
  {
   "cell_type": "markdown",
   "metadata": {},
   "source": [
    "### Train"
   ]
  },
  {
   "cell_type": "code",
   "execution_count": 3,
   "metadata": {},
   "outputs": [],
   "source": [
    "model_generator = lambda: cnn_150x150x5_3class()\n",
    "ensemble_size = 3\n",
    "batch_size = 10\n",
    "\n",
    "trainer = KerasTrainer(model_generator=model_generator,\n",
    "                       ensemble_size=ensemble_size,\n",
    "                       data_preprocessor=data_preprocessor,\n",
    "                       batch_size=batch_size)\n",
    "train_generator = data_preprocessor.train_generator(batch_size=batch_size,\n",
    "                                         class_probabilities=np.array([1./3, 1./3, 1./3]),\n",
    "                                         patch_size=(150, 150),\n",
    "                                         channels=np.array([0, 1, 2, 3, 4]))"
   ]
  },
  {
   "cell_type": "code",
   "execution_count": 4,
   "metadata": {},
   "outputs": [
    {
     "name": "stdout",
     "output_type": "stream",
     "text": [
      "Epoch 1/5\n",
      "100/100 [==============================] - 169s 2s/step - loss: 0.7560 - acc: 0.6500 - val_loss: 0.6243 - val_acc: 0.7400\n",
      "Epoch 2/5\n",
      "100/100 [==============================] - 161s 2s/step - loss: 0.5364 - acc: 0.7950 - val_loss: 0.5586 - val_acc: 0.6800\n",
      "Epoch 3/5\n",
      "100/100 [==============================] - 160s 2s/step - loss: 0.4590 - acc: 0.8120 - val_loss: 0.4295 - val_acc: 0.7600\n",
      "Epoch 4/5\n",
      "100/100 [==============================] - 160s 2s/step - loss: 0.3772 - acc: 0.8510 - val_loss: 0.4751 - val_acc: 0.7600\n",
      "Epoch 5/5\n",
      "100/100 [==============================] - 160s 2s/step - loss: 0.3736 - acc: 0.8430 - val_loss: 0.2626 - val_acc: 0.9400\n",
      "Epoch 1/5\n",
      "100/100 [==============================] - 163s 2s/step - loss: 0.9302 - acc: 0.5870 - val_loss: 0.6993 - val_acc: 0.7200\n",
      "Epoch 2/5\n",
      "100/100 [==============================] - 159s 2s/step - loss: 0.6174 - acc: 0.7430 - val_loss: 0.4612 - val_acc: 0.8400\n",
      "Epoch 3/5\n",
      "100/100 [==============================] - 160s 2s/step - loss: 0.5066 - acc: 0.8000 - val_loss: 0.4432 - val_acc: 0.7200\n",
      "Epoch 4/5\n",
      "100/100 [==============================] - 160s 2s/step - loss: 0.4510 - acc: 0.8230 - val_loss: 0.4397 - val_acc: 0.7800\n",
      "Epoch 5/5\n",
      "100/100 [==============================] - 160s 2s/step - loss: 0.4159 - acc: 0.8180 - val_loss: 0.4719 - val_acc: 0.8000\n",
      "Epoch 1/5\n",
      "100/100 [==============================] - 164s 2s/step - loss: 0.8599 - acc: 0.5940 - val_loss: 0.5646 - val_acc: 0.7600\n",
      "Epoch 2/5\n",
      "100/100 [==============================] - 166s 2s/step - loss: 0.5421 - acc: 0.7620 - val_loss: 0.3355 - val_acc: 0.8800\n",
      "Epoch 3/5\n",
      "100/100 [==============================] - 178s 2s/step - loss: 0.4576 - acc: 0.8010 - val_loss: 0.2983 - val_acc: 0.9000\n",
      "Epoch 4/5\n",
      "100/100 [==============================] - 170s 2s/step - loss: 0.3942 - acc: 0.8380 - val_loss: 0.3169 - val_acc: 0.9000\n",
      "Epoch 5/5\n",
      "100/100 [==============================] - 170s 2s/step - loss: 0.3850 - acc: 0.8420 - val_loss: 0.3137 - val_acc: 0.8800\n"
     ]
    }
   ],
   "source": [
    "history_arr = trainer.train(steps_per_epoch=100, epochs=5, train_generator=train_generator)"
   ]
  },
  {
   "cell_type": "code",
   "execution_count": 5,
   "metadata": {},
   "outputs": [],
   "source": [
    "for i in range(ensemble_size):\n",
    "    pathlib.Path('models_3class').mkdir(parents=True, exist_ok=True)\n",
    "    trainer.models[i].save_weights('models_3class/model_{}.h5'.format(i))"
   ]
  },
  {
   "cell_type": "code",
   "execution_count": null,
   "metadata": {},
   "outputs": [],
   "source": []
  },
  {
   "cell_type": "code",
   "execution_count": null,
   "metadata": {},
   "outputs": [],
   "source": []
  }
 ],
 "metadata": {
  "kernelspec": {
   "display_name": "Python 3",
   "language": "python",
   "name": "python3"
  },
  "language_info": {
   "codemirror_mode": {
    "name": "ipython",
    "version": 3
   },
   "file_extension": ".py",
   "mimetype": "text/x-python",
   "name": "python",
   "nbconvert_exporter": "python",
   "pygments_lexer": "ipython3",
   "version": "3.6.7"
  }
 },
 "nbformat": 4,
 "nbformat_minor": 2
}

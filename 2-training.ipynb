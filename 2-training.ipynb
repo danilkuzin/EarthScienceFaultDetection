{
 "cells": [
  {
   "cell_type": "code",
   "execution_count": 1,
   "metadata": {},
   "outputs": [],
   "source": [
    "%matplotlib inline\n",
    "\n",
    "import matplotlib.pyplot as plt\n",
    "from PIL import Image\n",
    "import seaborn as sns\n",
    "import numpy as np\n",
    "import tensorflow as tf\n",
    "import pathlib\n",
    "from tqdm import trange\n",
    "\n",
    "from src.DataPreprocessor.data_preprocessor import DataPreprocessor, Mode\n",
    "from src.LearningKeras.net_architecture import cnn_150x150x5,cnn_150x150x5_3class\n",
    "from src.LearningKeras.train import KerasTrainer\n",
    "\n",
    "np.random.seed(1)\n",
    "tf.set_random_seed(2)"
   ]
  },
  {
   "cell_type": "markdown",
   "metadata": {},
   "source": [
    "check data_visualisation for details"
   ]
  },
  {
   "cell_type": "code",
   "execution_count": 2,
   "metadata": {},
   "outputs": [
    {
     "name": "stderr",
     "output_type": "stream",
     "text": [
      "WARNING:root:optical images are not match in 1-2 pixels in size\n"
     ]
    }
   ],
   "source": [
    "from src.DataPreprocessor.DataIOBackend.gdal_backend import GdalBackend\n",
    "from src.DataPreprocessor.data_visualiser import DataVisualiser\n",
    "\n",
    "dataiobackend = GdalBackend()\n",
    "data_preprocessor = DataPreprocessor(data_dir=\"data/Region 1 - Lopukangri/\",\n",
    "                              backend=dataiobackend,\n",
    "                              filename_prefix=\"tibet\",\n",
    "                              mode=Mode.TRAIN,\n",
    "                              seed=1)"
   ]
  },
  {
   "cell_type": "markdown",
   "metadata": {},
   "source": [
    "## NN"
   ]
  },
  {
   "cell_type": "markdown",
   "metadata": {},
   "source": [
    "### Train"
   ]
  },
  {
   "cell_type": "code",
   "execution_count": 3,
   "metadata": {},
   "outputs": [],
   "source": [
    "model_generator = lambda: cnn_150x150x5_3class()\n",
    "ensemble_size = 2\n",
    "batch_size = 5\n",
    "\n",
    "trainer = KerasTrainer(model_generator=model_generator,\n",
    "                       ensemble_size=ensemble_size,\n",
    "                       data_preprocessor=data_preprocessor,\n",
    "                       batch_size=batch_size)\n",
    "train_generator = data_preprocessor.train_generator(batch_size=batch_size,\n",
    "                                         class_probabilities=np.array([1./3, 1./3, 1./3]),\n",
    "                                         patch_size=(150, 150),\n",
    "                                         channels=np.array([0, 1, 2, 3, 4]))"
   ]
  },
  {
   "cell_type": "code",
   "execution_count": 4,
   "metadata": {},
   "outputs": [
    {
     "name": "stdout",
     "output_type": "stream",
     "text": [
      "Epoch 1/5\n",
      "50/50 [==============================] - 71s 1s/step - loss: 1.0650 - acc: 0.4400 - val_loss: 0.8165 - val_acc: 0.6800\n",
      "Epoch 2/5\n",
      "50/50 [==============================] - 68s 1s/step - loss: 0.6989 - acc: 0.6680 - val_loss: 0.6361 - val_acc: 0.6400\n",
      "Epoch 3/5\n",
      "50/50 [==============================] - 71s 1s/step - loss: 0.7342 - acc: 0.6920 - val_loss: 0.9020 - val_acc: 0.6000\n",
      "Epoch 4/5\n",
      "50/50 [==============================] - 69s 1s/step - loss: 0.6677 - acc: 0.7200 - val_loss: 0.5870 - val_acc: 0.7200\n",
      "Epoch 5/5\n",
      "50/50 [==============================] - 71s 1s/step - loss: 0.5825 - acc: 0.7880 - val_loss: 0.4110 - val_acc: 0.8400\n",
      "Epoch 1/5\n",
      "50/50 [==============================] - 74s 1s/step - loss: 0.9920 - acc: 0.5720 - val_loss: 0.7061 - val_acc: 0.7200\n",
      "Epoch 2/5\n",
      "50/50 [==============================] - 70s 1s/step - loss: 0.7776 - acc: 0.6480 - val_loss: 0.6513 - val_acc: 0.6000\n",
      "Epoch 3/5\n",
      "50/50 [==============================] - 78s 2s/step - loss: 0.6782 - acc: 0.7160 - val_loss: 0.6060 - val_acc: 0.8000\n",
      "Epoch 4/5\n",
      "50/50 [==============================] - 78s 2s/step - loss: 0.5997 - acc: 0.7120 - val_loss: 0.6127 - val_acc: 0.6800\n",
      "Epoch 5/5\n",
      "50/50 [==============================] - 74s 1s/step - loss: 0.5742 - acc: 0.7560 - val_loss: 0.6206 - val_acc: 0.8000\n"
     ]
    },
    {
     "data": {
      "text/plain": [
       "<tensorflow.python.keras.callbacks.History at 0x7f12ccbfa470>"
      ]
     },
     "execution_count": 4,
     "metadata": {},
     "output_type": "execute_result"
    }
   ],
   "source": [
    "history_arr = trainer.train(steps_per_epoch=50, epochs=5, train_generator=train_generator)"
   ]
  },
  {
   "cell_type": "code",
   "execution_count": 6,
   "metadata": {},
   "outputs": [],
   "source": [
    "for i in range(ensemble_size):\n",
    "    pathlib.Path('models_3class').mkdir(parents=True, exist_ok=True)\n",
    "    trainer.models[i].save_weights('models_3class/model_{}.h5'.format(i))"
   ]
  },
  {
   "cell_type": "code",
   "execution_count": null,
   "metadata": {},
   "outputs": [],
   "source": []
  },
  {
   "cell_type": "code",
   "execution_count": null,
   "metadata": {},
   "outputs": [],
   "source": []
  }
 ],
 "metadata": {
  "kernelspec": {
   "display_name": "Python 3",
   "language": "python",
   "name": "python3"
  },
  "language_info": {
   "codemirror_mode": {
    "name": "ipython",
    "version": 3
   },
   "file_extension": ".py",
   "mimetype": "text/x-python",
   "name": "python",
   "nbconvert_exporter": "python",
   "pygments_lexer": "ipython3",
   "version": "3.6.7"
  }
 },
 "nbformat": 4,
 "nbformat_minor": 2
}

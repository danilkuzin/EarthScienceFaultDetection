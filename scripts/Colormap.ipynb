{
 "cells": [
  {
   "cell_type": "code",
   "execution_count": 3,
   "metadata": {},
   "outputs": [],
   "source": [
    "import numpy as np\n",
    "import matplotlib as mpl\n",
    "import matplotlib.pyplot as plt\n",
    "from matplotlib import cm"
   ]
  },
  {
   "cell_type": "code",
   "execution_count": 4,
   "metadata": {},
   "outputs": [
    {
     "data": {
      "image/png": "[encoded data removed]",
      "text/plain": [
       "<Figure size 432x288 with 1 Axes>"
      ]
     },
     "metadata": {
      "needs_background": "light"
     },
     "output_type": "display_data"
    }
   ],
   "source": [
    "gradient = np.linspace(0, 1, 1000)\n",
    "gradient = np.vstack((gradient, gradient))\n",
    "\n",
    "fig, axes = plt.subplots(nrows=1)\n",
    "fig.subplots_adjust(top=0.95, bottom=0.01, left=0.2, right=0.99)\n",
    "\n",
    "axes.imshow(gradient, aspect='auto', cmap=plt.get_cmap('jet'))\n",
    "num_ticks = len(axes.get_xticks())\n",
    "axes.set_xticklabels(np.round(np.linspace(-1./(num_ticks-2)+0.00001, 1., num_ticks), 2))\n",
    "plt.yticks([])\n",
    "plt.show()"
   ]
  },
  {
   "cell_type": "code",
   "execution_count": null,
   "metadata": {},
   "outputs": [],
   "source": []
  }
 ],
 "metadata": {
  "kernelspec": {
   "display_name": "Python 3",
   "language": "python",
   "name": "python3"
  },
  "language_info": {
   "codemirror_mode": {
    "name": "ipython",
    "version": 3
   },
   "file_extension": ".py",
   "mimetype": "text/x-python",
   "name": "python",
   "nbconvert_exporter": "python",
   "pygments_lexer": "ipython3",
   "version": "3.6.6"
  }
 },
 "nbformat": 4,
 "nbformat_minor": 2
}
